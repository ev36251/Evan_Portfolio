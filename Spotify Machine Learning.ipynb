{
 "cells": [
  {
   "cell_type": "code",
   "execution_count": 1,
   "metadata": {},
   "outputs": [],
   "source": [
    "import pandas as pd\n",
    "from sklearn.model_selection import train_test_split\n",
    "from sklearn.preprocessing import StandardScaler\n",
    "from sklearn.neighbors import NearestNeighbors\n",
    "from sklearn.preprocessing import MinMaxScaler\n",
    "from pathlib import Path\n",
    "import matplotlib.pyplot as plt\n",
    "import numpy as np\n",
    "import seaborn as sns"
   ]
  },
  {
   "cell_type": "markdown",
   "metadata": {},
   "source": [
    "# Load and Clean Dataset"
   ]
  },
  {
   "cell_type": "code",
   "execution_count": 2,
   "metadata": {},
   "outputs": [
    {
     "data": {
      "text/plain": [
       "(41099, 20)"
      ]
     },
     "execution_count": 2,
     "metadata": {},
     "output_type": "execute_result"
    }
   ],
   "source": [
    "# # Load the dataset (replace 'songs.csv' with your actual file)\n",
    "file_path = Path('Resources/spotify_dataset.csv')\n",
    "songs_df = pd.read_csv(file_path)\n",
    "songs_df.shape"
   ]
  },
  {
   "cell_type": "code",
   "execution_count": 3,
   "metadata": {},
   "outputs": [
    {
     "name": "stdout",
     "output_type": "stream",
     "text": [
      "DataFrame after removing duplicates: (39996, 20)\n"
     ]
    }
   ],
   "source": [
    "# Remove duplicate songs\n",
    "songs_df = songs_df.drop_duplicates(subset=['track', 'artist'], keep='first')\n",
    "\n",
    "print(f\"DataFrame after removing duplicates: {songs_df.shape}\")"
   ]
  },
  {
   "cell_type": "code",
   "execution_count": 4,
   "metadata": {},
   "outputs": [],
   "source": [
    "songs_df = songs_df.reset_index(drop=True)"
   ]
  },
  {
   "cell_type": "code",
   "execution_count": 5,
   "metadata": {},
   "outputs": [
    {
     "name": "stdout",
     "output_type": "stream",
     "text": [
      "<class 'pandas.core.frame.DataFrame'>\n",
      "RangeIndex: 39996 entries, 0 to 39995\n",
      "Data columns (total 20 columns):\n",
      " #   Column            Non-Null Count  Dtype  \n",
      "---  ------            --------------  -----  \n",
      " 0   track             39996 non-null  object \n",
      " 1   artist            39996 non-null  object \n",
      " 2   uri               39996 non-null  object \n",
      " 3   danceability      39996 non-null  float64\n",
      " 4   energy            39996 non-null  float64\n",
      " 5   key               39996 non-null  int64  \n",
      " 6   loudness          39996 non-null  float64\n",
      " 7   mode              39996 non-null  int64  \n",
      " 8   speechiness       39996 non-null  float64\n",
      " 9   acousticness      39996 non-null  float64\n",
      " 10  instrumentalness  39996 non-null  float64\n",
      " 11  liveness          39996 non-null  float64\n",
      " 12  valence           39996 non-null  float64\n",
      " 13  tempo             39996 non-null  float64\n",
      " 14  duration_ms       39996 non-null  int64  \n",
      " 15  time_signature    39996 non-null  int64  \n",
      " 16  chorus_hit        39996 non-null  float64\n",
      " 17  sections          39996 non-null  int64  \n",
      " 18  popularity        39996 non-null  int64  \n",
      " 19  decade            39996 non-null  object \n",
      "dtypes: float64(10), int64(6), object(4)\n",
      "memory usage: 6.1+ MB\n"
     ]
    }
   ],
   "source": [
    "songs_df.info()"
   ]
  },
  {
   "cell_type": "code",
   "execution_count": 6,
   "metadata": {},
   "outputs": [],
   "source": [
    "# Normalize dataset columns for searching\n",
    "songs_df['track_lower'] = songs_df['track'].str.strip().str.lower()\n",
    "songs_df['artist_lower'] = songs_df['artist'].str.strip().str.lower()"
   ]
  },
  {
   "cell_type": "code",
   "execution_count": 7,
   "metadata": {},
   "outputs": [
    {
     "data": {
      "text/plain": [
       "(39996, 22)"
      ]
     },
     "execution_count": 7,
     "metadata": {},
     "output_type": "execute_result"
    }
   ],
   "source": [
    "songs_df.shape"
   ]
  },
  {
   "cell_type": "markdown",
   "metadata": {},
   "source": [
    "### Get Dummies for Decade Column"
   ]
  },
  {
   "cell_type": "code",
   "execution_count": 8,
   "metadata": {},
   "outputs": [],
   "source": [
    "# Create dummy variables for the 'decade' column\n",
    "decade_dummies = pd.get_dummies(songs_df['decade'], prefix='decade')\n",
    "\n",
    "# Concatenate the dummy variables with the original DataFrame\n",
    "songs_df = pd.concat([songs_df, decade_dummies], axis=1)\n",
    "\n",
    "# Drop the original 'decade' column \n",
    "songs_df.drop('decade', axis=1, inplace=True)"
   ]
  },
  {
   "cell_type": "code",
   "execution_count": 9,
   "metadata": {},
   "outputs": [
    {
     "data": {
      "text/plain": [
       "(39996, 27)"
      ]
     },
     "execution_count": 9,
     "metadata": {},
     "output_type": "execute_result"
    }
   ],
   "source": [
    "songs_df.shape"
   ]
  },
  {
   "cell_type": "code",
   "execution_count": 10,
   "metadata": {},
   "outputs": [
    {
     "data": {
      "text/html": [
       "<div>\n",
       "<style scoped>\n",
       "    .dataframe tbody tr th:only-of-type {\n",
       "        vertical-align: middle;\n",
       "    }\n",
       "\n",
       "    .dataframe tbody tr th {\n",
       "        vertical-align: top;\n",
       "    }\n",
       "\n",
       "    .dataframe thead th {\n",
       "        text-align: right;\n",
       "    }\n",
       "</style>\n",
       "<table border=\"1\" class=\"dataframe\">\n",
       "  <thead>\n",
       "    <tr style=\"text-align: right;\">\n",
       "      <th></th>\n",
       "      <th>track</th>\n",
       "      <th>artist</th>\n",
       "      <th>uri</th>\n",
       "      <th>danceability</th>\n",
       "      <th>energy</th>\n",
       "      <th>key</th>\n",
       "      <th>loudness</th>\n",
       "      <th>mode</th>\n",
       "      <th>speechiness</th>\n",
       "      <th>acousticness</th>\n",
       "      <th>...</th>\n",
       "      <th>sections</th>\n",
       "      <th>popularity</th>\n",
       "      <th>track_lower</th>\n",
       "      <th>artist_lower</th>\n",
       "      <th>decade_00s</th>\n",
       "      <th>decade_10s</th>\n",
       "      <th>decade_60s</th>\n",
       "      <th>decade_70s</th>\n",
       "      <th>decade_80s</th>\n",
       "      <th>decade_90s</th>\n",
       "    </tr>\n",
       "  </thead>\n",
       "  <tbody>\n",
       "    <tr>\n",
       "      <th>0</th>\n",
       "      <td>Jealous Kind Of Fella</td>\n",
       "      <td>Garland Green</td>\n",
       "      <td>spotify:track:1dtKN6wwlolkM8XZy2y9C1</td>\n",
       "      <td>0.417</td>\n",
       "      <td>0.620</td>\n",
       "      <td>3</td>\n",
       "      <td>-7.727</td>\n",
       "      <td>1</td>\n",
       "      <td>0.0403</td>\n",
       "      <td>0.490</td>\n",
       "      <td>...</td>\n",
       "      <td>9</td>\n",
       "      <td>1</td>\n",
       "      <td>jealous kind of fella</td>\n",
       "      <td>garland green</td>\n",
       "      <td>False</td>\n",
       "      <td>False</td>\n",
       "      <td>True</td>\n",
       "      <td>False</td>\n",
       "      <td>False</td>\n",
       "      <td>False</td>\n",
       "    </tr>\n",
       "    <tr>\n",
       "      <th>1</th>\n",
       "      <td>Initials B.B.</td>\n",
       "      <td>Serge Gainsbourg</td>\n",
       "      <td>spotify:track:5hjsmSnUefdUqzsDogisiX</td>\n",
       "      <td>0.498</td>\n",
       "      <td>0.505</td>\n",
       "      <td>3</td>\n",
       "      <td>-12.475</td>\n",
       "      <td>1</td>\n",
       "      <td>0.0337</td>\n",
       "      <td>0.018</td>\n",
       "      <td>...</td>\n",
       "      <td>10</td>\n",
       "      <td>0</td>\n",
       "      <td>initials b.b.</td>\n",
       "      <td>serge gainsbourg</td>\n",
       "      <td>False</td>\n",
       "      <td>False</td>\n",
       "      <td>True</td>\n",
       "      <td>False</td>\n",
       "      <td>False</td>\n",
       "      <td>False</td>\n",
       "    </tr>\n",
       "    <tr>\n",
       "      <th>2</th>\n",
       "      <td>Melody Twist</td>\n",
       "      <td>Lord Melody</td>\n",
       "      <td>spotify:track:6uk8tI6pwxxdVTNlNOJeJh</td>\n",
       "      <td>0.657</td>\n",
       "      <td>0.649</td>\n",
       "      <td>5</td>\n",
       "      <td>-13.392</td>\n",
       "      <td>1</td>\n",
       "      <td>0.0380</td>\n",
       "      <td>0.846</td>\n",
       "      <td>...</td>\n",
       "      <td>12</td>\n",
       "      <td>0</td>\n",
       "      <td>melody twist</td>\n",
       "      <td>lord melody</td>\n",
       "      <td>False</td>\n",
       "      <td>False</td>\n",
       "      <td>True</td>\n",
       "      <td>False</td>\n",
       "      <td>False</td>\n",
       "      <td>False</td>\n",
       "    </tr>\n",
       "    <tr>\n",
       "      <th>3</th>\n",
       "      <td>Mi Bomba Sonó</td>\n",
       "      <td>Celia Cruz</td>\n",
       "      <td>spotify:track:7aNjMJ05FvUXACPWZ7yJmv</td>\n",
       "      <td>0.590</td>\n",
       "      <td>0.545</td>\n",
       "      <td>7</td>\n",
       "      <td>-12.058</td>\n",
       "      <td>0</td>\n",
       "      <td>0.1040</td>\n",
       "      <td>0.706</td>\n",
       "      <td>...</td>\n",
       "      <td>8</td>\n",
       "      <td>0</td>\n",
       "      <td>mi bomba sonó</td>\n",
       "      <td>celia cruz</td>\n",
       "      <td>False</td>\n",
       "      <td>False</td>\n",
       "      <td>True</td>\n",
       "      <td>False</td>\n",
       "      <td>False</td>\n",
       "      <td>False</td>\n",
       "    </tr>\n",
       "    <tr>\n",
       "      <th>4</th>\n",
       "      <td>Uravu Solla</td>\n",
       "      <td>P. Susheela</td>\n",
       "      <td>spotify:track:1rQ0clvgkzWr001POOPJWx</td>\n",
       "      <td>0.515</td>\n",
       "      <td>0.765</td>\n",
       "      <td>11</td>\n",
       "      <td>-3.515</td>\n",
       "      <td>0</td>\n",
       "      <td>0.1240</td>\n",
       "      <td>0.857</td>\n",
       "      <td>...</td>\n",
       "      <td>14</td>\n",
       "      <td>0</td>\n",
       "      <td>uravu solla</td>\n",
       "      <td>p. susheela</td>\n",
       "      <td>False</td>\n",
       "      <td>False</td>\n",
       "      <td>True</td>\n",
       "      <td>False</td>\n",
       "      <td>False</td>\n",
       "      <td>False</td>\n",
       "    </tr>\n",
       "  </tbody>\n",
       "</table>\n",
       "<p>5 rows × 27 columns</p>\n",
       "</div>"
      ],
      "text/plain": [
       "                   track            artist  \\\n",
       "0  Jealous Kind Of Fella     Garland Green   \n",
       "1          Initials B.B.  Serge Gainsbourg   \n",
       "2           Melody Twist       Lord Melody   \n",
       "3          Mi Bomba Sonó        Celia Cruz   \n",
       "4            Uravu Solla       P. Susheela   \n",
       "\n",
       "                                    uri  danceability  energy  key  loudness  \\\n",
       "0  spotify:track:1dtKN6wwlolkM8XZy2y9C1         0.417   0.620    3    -7.727   \n",
       "1  spotify:track:5hjsmSnUefdUqzsDogisiX         0.498   0.505    3   -12.475   \n",
       "2  spotify:track:6uk8tI6pwxxdVTNlNOJeJh         0.657   0.649    5   -13.392   \n",
       "3  spotify:track:7aNjMJ05FvUXACPWZ7yJmv         0.590   0.545    7   -12.058   \n",
       "4  spotify:track:1rQ0clvgkzWr001POOPJWx         0.515   0.765   11    -3.515   \n",
       "\n",
       "   mode  speechiness  acousticness  ...  sections  popularity  \\\n",
       "0     1       0.0403         0.490  ...         9           1   \n",
       "1     1       0.0337         0.018  ...        10           0   \n",
       "2     1       0.0380         0.846  ...        12           0   \n",
       "3     0       0.1040         0.706  ...         8           0   \n",
       "4     0       0.1240         0.857  ...        14           0   \n",
       "\n",
       "             track_lower      artist_lower  decade_00s  decade_10s  \\\n",
       "0  jealous kind of fella     garland green       False       False   \n",
       "1          initials b.b.  serge gainsbourg       False       False   \n",
       "2           melody twist       lord melody       False       False   \n",
       "3          mi bomba sonó        celia cruz       False       False   \n",
       "4            uravu solla       p. susheela       False       False   \n",
       "\n",
       "   decade_60s  decade_70s  decade_80s decade_90s  \n",
       "0        True       False       False      False  \n",
       "1        True       False       False      False  \n",
       "2        True       False       False      False  \n",
       "3        True       False       False      False  \n",
       "4        True       False       False      False  \n",
       "\n",
       "[5 rows x 27 columns]"
      ]
     },
     "execution_count": 10,
     "metadata": {},
     "output_type": "execute_result"
    }
   ],
   "source": [
    "songs_df.head()"
   ]
  },
  {
   "cell_type": "markdown",
   "metadata": {},
   "source": [
    "# Determine Which Features to Use"
   ]
  },
  {
   "cell_type": "code",
   "execution_count": 11,
   "metadata": {},
   "outputs": [
    {
     "data": {
      "text/plain": [
       "count    39996.000000\n",
       "mean         0.153977\n",
       "std          0.303240\n",
       "min          0.000000\n",
       "25%          0.000000\n",
       "50%          0.000117\n",
       "75%          0.059700\n",
       "max          1.000000\n",
       "Name: instrumentalness, dtype: float64"
      ]
     },
     "execution_count": 11,
     "metadata": {},
     "output_type": "execute_result"
    }
   ],
   "source": [
    "songs_df['instrumentalness'].describe()"
   ]
  },
  {
   "cell_type": "markdown",
   "metadata": {},
   "source": [
    "Many songs have an instrumentalness of 0, and 75% have a number that is very small, so i decided to not include instrumentalness as one of my features. "
   ]
  },
  {
   "cell_type": "code",
   "execution_count": 12,
   "metadata": {},
   "outputs": [
    {
     "name": "stdout",
     "output_type": "stream",
     "text": [
      "There are 20125 popular songs in the dataset.\n"
     ]
    }
   ],
   "source": [
    "popular_songs_count = songs_df[songs_df['popularity'] == 1].shape[0]\n",
    "\n",
    "print(f\"There are {popular_songs_count} popular songs in the dataset.\")"
   ]
  },
  {
   "cell_type": "markdown",
   "metadata": {},
   "source": [
    "If I use popular songs in a feature, the model will only pick other songs that are popular, so it will cut the dataset in half. And if I include the  different decades in the model, the model will only recommend songs from the input songs decade, which I want to avoid. "
   ]
  },
  {
   "cell_type": "markdown",
   "metadata": {},
   "source": [
    "## Features and Scaling"
   ]
  },
  {
   "cell_type": "code",
   "execution_count": 13,
   "metadata": {},
   "outputs": [],
   "source": [
    "features = [\n",
    "# 'track',\n",
    "#  'artist',\n",
    "#  'uri',\n",
    " 'danceability',\n",
    " 'energy',\n",
    "#  'key',\n",
    "#  'loudness',\n",
    "#  'mode',\n",
    "#  'speechiness',\n",
    " 'acousticness',\n",
    "#  'instrumentalness',\n",
    "#  'liveness',\n",
    " 'valence',\n",
    " 'tempo',\n",
    "#  'duration_ms',\n",
    "#  'time_signature',\n",
    "#  'chorus_hit',\n",
    "#  'sections',\n",
    "#  'popularity',\n",
    "#  'decade_60s',\n",
    "#  'decade_70s',\n",
    "#  'decade_80s',\n",
    "#  'decade_90s',\n",
    "#  'decade_00s',\n",
    "#  'decade_10s'\n",
    " ]\n",
    "\n",
    "\n",
    "X = songs_df[features]"
   ]
  },
  {
   "cell_type": "code",
   "execution_count": 14,
   "metadata": {},
   "outputs": [],
   "source": [
    "scaler = MinMaxScaler()\n",
    "\n",
    "# Ensure indices of scaled features match songs_df\n",
    "X_scaled = pd.DataFrame(\n",
    "    scaler.fit_transform(X),\n",
    "    columns=features,\n",
    "    index=songs_df.index  # Match the original index\n",
    ")"
   ]
  },
  {
   "cell_type": "code",
   "execution_count": 15,
   "metadata": {},
   "outputs": [
    {
     "data": {
      "text/html": [
       "<div>\n",
       "<style scoped>\n",
       "    .dataframe tbody tr th:only-of-type {\n",
       "        vertical-align: middle;\n",
       "    }\n",
       "\n",
       "    .dataframe tbody tr th {\n",
       "        vertical-align: top;\n",
       "    }\n",
       "\n",
       "    .dataframe thead th {\n",
       "        text-align: right;\n",
       "    }\n",
       "</style>\n",
       "<table border=\"1\" class=\"dataframe\">\n",
       "  <thead>\n",
       "    <tr style=\"text-align: right;\">\n",
       "      <th></th>\n",
       "      <th>danceability</th>\n",
       "      <th>energy</th>\n",
       "      <th>acousticness</th>\n",
       "      <th>valence</th>\n",
       "      <th>tempo</th>\n",
       "    </tr>\n",
       "  </thead>\n",
       "  <tbody>\n",
       "    <tr>\n",
       "      <th>0</th>\n",
       "      <td>0.422065</td>\n",
       "      <td>0.619905</td>\n",
       "      <td>0.491968</td>\n",
       "      <td>0.848394</td>\n",
       "      <td>0.769003</td>\n",
       "    </tr>\n",
       "    <tr>\n",
       "      <th>1</th>\n",
       "      <td>0.504049</td>\n",
       "      <td>0.504876</td>\n",
       "      <td>0.018072</td>\n",
       "      <td>0.800201</td>\n",
       "      <td>0.421671</td>\n",
       "    </tr>\n",
       "    <tr>\n",
       "      <th>2</th>\n",
       "      <td>0.664980</td>\n",
       "      <td>0.648912</td>\n",
       "      <td>0.849398</td>\n",
       "      <td>0.911647</td>\n",
       "      <td>0.480236</td>\n",
       "    </tr>\n",
       "    <tr>\n",
       "      <th>3</th>\n",
       "      <td>0.597166</td>\n",
       "      <td>0.544886</td>\n",
       "      <td>0.708835</td>\n",
       "      <td>0.970884</td>\n",
       "      <td>0.437373</td>\n",
       "    </tr>\n",
       "    <tr>\n",
       "      <th>4</th>\n",
       "      <td>0.521255</td>\n",
       "      <td>0.764941</td>\n",
       "      <td>0.860442</td>\n",
       "      <td>0.909639</td>\n",
       "      <td>0.474756</td>\n",
       "    </tr>\n",
       "  </tbody>\n",
       "</table>\n",
       "</div>"
      ],
      "text/plain": [
       "   danceability    energy  acousticness   valence     tempo\n",
       "0      0.422065  0.619905      0.491968  0.848394  0.769003\n",
       "1      0.504049  0.504876      0.018072  0.800201  0.421671\n",
       "2      0.664980  0.648912      0.849398  0.911647  0.480236\n",
       "3      0.597166  0.544886      0.708835  0.970884  0.437373\n",
       "4      0.521255  0.764941      0.860442  0.909639  0.474756"
      ]
     },
     "execution_count": 15,
     "metadata": {},
     "output_type": "execute_result"
    }
   ],
   "source": [
    "X_scaled.head()"
   ]
  },
  {
   "cell_type": "code",
   "execution_count": 16,
   "metadata": {},
   "outputs": [
    {
     "data": {
      "image/png": "[encoded data removed]",
      "text/plain": [
       "<Figure size 1000x800 with 2 Axes>"
      ]
     },
     "metadata": {},
     "output_type": "display_data"
    }
   ],
   "source": [
    "correlation_matrix = X.corr()\n",
    "\n",
    "plt.figure(figsize=(10, 8))\n",
    "sns.heatmap(correlation_matrix, annot=True, fmt=\".2f\", cmap=\"coolwarm\", cbar=True)\n",
    "plt.title(\"Correlation Matrix of Spotify Song Features\")\n",
    "plt.show()"
   ]
  },
  {
   "cell_type": "markdown",
   "metadata": {},
   "source": [
    "## Apply Weights"
   ]
  },
  {
   "cell_type": "code",
   "execution_count": 17,
   "metadata": {},
   "outputs": [],
   "source": [
    "# Feature weighting\n",
    "weights = {\n",
    "    'danceability': 1.0,\n",
    "    'energy': 1.3,\n",
    "    'acousticness': 1.0,\n",
    "    # 'liveness': 1.3,\n",
    "    'valence': 1.3,\n",
    "    'tempo': 1.0,\n",
    "}"
   ]
  },
  {
   "cell_type": "code",
   "execution_count": 18,
   "metadata": {},
   "outputs": [],
   "source": [
    "# Apply the weights to the scaled features\n",
    "weighted_features = X_scaled * pd.Series(weights)"
   ]
  },
  {
   "cell_type": "code",
   "execution_count": 19,
   "metadata": {},
   "outputs": [
    {
     "data": {
      "text/html": [
       "<div>\n",
       "<style scoped>\n",
       "    .dataframe tbody tr th:only-of-type {\n",
       "        vertical-align: middle;\n",
       "    }\n",
       "\n",
       "    .dataframe tbody tr th {\n",
       "        vertical-align: top;\n",
       "    }\n",
       "\n",
       "    .dataframe thead th {\n",
       "        text-align: right;\n",
       "    }\n",
       "</style>\n",
       "<table border=\"1\" class=\"dataframe\">\n",
       "  <thead>\n",
       "    <tr style=\"text-align: right;\">\n",
       "      <th></th>\n",
       "      <th>danceability</th>\n",
       "      <th>energy</th>\n",
       "      <th>acousticness</th>\n",
       "      <th>valence</th>\n",
       "      <th>tempo</th>\n",
       "    </tr>\n",
       "  </thead>\n",
       "  <tbody>\n",
       "    <tr>\n",
       "      <th>0</th>\n",
       "      <td>0.422065</td>\n",
       "      <td>0.805876</td>\n",
       "      <td>0.491968</td>\n",
       "      <td>1.102912</td>\n",
       "      <td>0.769003</td>\n",
       "    </tr>\n",
       "    <tr>\n",
       "      <th>1</th>\n",
       "      <td>0.504049</td>\n",
       "      <td>0.656338</td>\n",
       "      <td>0.018072</td>\n",
       "      <td>1.040261</td>\n",
       "      <td>0.421671</td>\n",
       "    </tr>\n",
       "    <tr>\n",
       "      <th>2</th>\n",
       "      <td>0.664980</td>\n",
       "      <td>0.843585</td>\n",
       "      <td>0.849398</td>\n",
       "      <td>1.185141</td>\n",
       "      <td>0.480236</td>\n",
       "    </tr>\n",
       "    <tr>\n",
       "      <th>3</th>\n",
       "      <td>0.597166</td>\n",
       "      <td>0.708351</td>\n",
       "      <td>0.708835</td>\n",
       "      <td>1.262149</td>\n",
       "      <td>0.437373</td>\n",
       "    </tr>\n",
       "    <tr>\n",
       "      <th>4</th>\n",
       "      <td>0.521255</td>\n",
       "      <td>0.994423</td>\n",
       "      <td>0.860442</td>\n",
       "      <td>1.182530</td>\n",
       "      <td>0.474756</td>\n",
       "    </tr>\n",
       "  </tbody>\n",
       "</table>\n",
       "</div>"
      ],
      "text/plain": [
       "   danceability    energy  acousticness   valence     tempo\n",
       "0      0.422065  0.805876      0.491968  1.102912  0.769003\n",
       "1      0.504049  0.656338      0.018072  1.040261  0.421671\n",
       "2      0.664980  0.843585      0.849398  1.185141  0.480236\n",
       "3      0.597166  0.708351      0.708835  1.262149  0.437373\n",
       "4      0.521255  0.994423      0.860442  1.182530  0.474756"
      ]
     },
     "execution_count": 19,
     "metadata": {},
     "output_type": "execute_result"
    }
   ],
   "source": [
    "weighted_features.head()"
   ]
  },
  {
   "cell_type": "markdown",
   "metadata": {},
   "source": [
    "# NN Model"
   ]
  },
  {
   "cell_type": "code",
   "execution_count": 20,
   "metadata": {},
   "outputs": [
    {
     "data": {
      "text/html": [
       "<style>#sk-container-id-1 {\n",
       "  /* Definition of color scheme common for light and dark mode */\n",
       "  --sklearn-color-text: black;\n",
       "  --sklearn-color-line: gray;\n",
       "  /* Definition of color scheme for unfitted estimators */\n",
       "  --sklearn-color-unfitted-level-0: #fff5e6;\n",
       "  --sklearn-color-unfitted-level-1: #f6e4d2;\n",
       "  --sklearn-color-unfitted-level-2: #ffe0b3;\n",
       "  --sklearn-color-unfitted-level-3: chocolate;\n",
       "  /* Definition of color scheme for fitted estimators */\n",
       "  --sklearn-color-fitted-level-0: #f0f8ff;\n",
       "  --sklearn-color-fitted-level-1: #d4ebff;\n",
       "  --sklearn-color-fitted-level-2: #b3dbfd;\n",
       "  --sklearn-color-fitted-level-3: cornflowerblue;\n",
       "\n",
       "  /* Specific color for light theme */\n",
       "  --sklearn-color-text-on-default-background: var(--sg-text-color, var(--theme-code-foreground, var(--jp-content-font-color1, black)));\n",
       "  --sklearn-color-background: var(--sg-background-color, var(--theme-background, var(--jp-layout-color0, white)));\n",
       "  --sklearn-color-border-box: var(--sg-text-color, var(--theme-code-foreground, var(--jp-content-font-color1, black)));\n",
       "  --sklearn-color-icon: #696969;\n",
       "\n",
       "  @media (prefers-color-scheme: dark) {\n",
       "    /* Redefinition of color scheme for dark theme */\n",
       "    --sklearn-color-text-on-default-background: var(--sg-text-color, var(--theme-code-foreground, var(--jp-content-font-color1, white)));\n",
       "    --sklearn-color-background: var(--sg-background-color, var(--theme-background, var(--jp-layout-color0, #111)));\n",
       "    --sklearn-color-border-box: var(--sg-text-color, var(--theme-code-foreground, var(--jp-content-font-color1, white)));\n",
       "    --sklearn-color-icon: #878787;\n",
       "  }\n",
       "}\n",
       "\n",
       "#sk-container-id-1 {\n",
       "  color: var(--sklearn-color-text);\n",
       "}\n",
       "\n",
       "#sk-container-id-1 pre {\n",
       "  padding: 0;\n",
       "}\n",
       "\n",
       "#sk-container-id-1 input.sk-hidden--visually {\n",
       "  border: 0;\n",
       "  clip: rect(1px 1px 1px 1px);\n",
       "  clip: rect(1px, 1px, 1px, 1px);\n",
       "  height: 1px;\n",
       "  margin: -1px;\n",
       "  overflow: hidden;\n",
       "  padding: 0;\n",
       "  position: absolute;\n",
       "  width: 1px;\n",
       "}\n",
       "\n",
       "#sk-container-id-1 div.sk-dashed-wrapped {\n",
       "  border: 1px dashed var(--sklearn-color-line);\n",
       "  margin: 0 0.4em 0.5em 0.4em;\n",
       "  box-sizing: border-box;\n",
       "  padding-bottom: 0.4em;\n",
       "  background-color: var(--sklearn-color-background);\n",
       "}\n",
       "\n",
       "#sk-container-id-1 div.sk-container {\n",
       "  /* jupyter's `normalize.less` sets `[hidden] { display: none; }`\n",
       "     but bootstrap.min.css set `[hidden] { display: none !important; }`\n",
       "     so we also need the `!important` here to be able to override the\n",
       "     default hidden behavior on the sphinx rendered scikit-learn.org.\n",
       "     See: https://github.com/scikit-learn/scikit-learn/issues/21755 */\n",
       "  display: inline-block !important;\n",
       "  position: relative;\n",
       "}\n",
       "\n",
       "#sk-container-id-1 div.sk-text-repr-fallback {\n",
       "  display: none;\n",
       "}\n",
       "\n",
       "div.sk-parallel-item,\n",
       "div.sk-serial,\n",
       "div.sk-item {\n",
       "  /* draw centered vertical line to link estimators */\n",
       "  background-image: linear-gradient(var(--sklearn-color-text-on-default-background), var(--sklearn-color-text-on-default-background));\n",
       "  background-size: 2px 100%;\n",
       "  background-repeat: no-repeat;\n",
       "  background-position: center center;\n",
       "}\n",
       "\n",
       "/* Parallel-specific style estimator block */\n",
       "\n",
       "#sk-container-id-1 div.sk-parallel-item::after {\n",
       "  content: \"\";\n",
       "  width: 100%;\n",
       "  border-bottom: 2px solid var(--sklearn-color-text-on-default-background);\n",
       "  flex-grow: 1;\n",
       "}\n",
       "\n",
       "#sk-container-id-1 div.sk-parallel {\n",
       "  display: flex;\n",
       "  align-items: stretch;\n",
       "  justify-content: center;\n",
       "  background-color: var(--sklearn-color-background);\n",
       "  position: relative;\n",
       "}\n",
       "\n",
       "#sk-container-id-1 div.sk-parallel-item {\n",
       "  display: flex;\n",
       "  flex-direction: column;\n",
       "}\n",
       "\n",
       "#sk-container-id-1 div.sk-parallel-item:first-child::after {\n",
       "  align-self: flex-end;\n",
       "  width: 50%;\n",
       "}\n",
       "\n",
       "#sk-container-id-1 div.sk-parallel-item:last-child::after {\n",
       "  align-self: flex-start;\n",
       "  width: 50%;\n",
       "}\n",
       "\n",
       "#sk-container-id-1 div.sk-parallel-item:only-child::after {\n",
       "  width: 0;\n",
       "}\n",
       "\n",
       "/* Serial-specific style estimator block */\n",
       "\n",
       "#sk-container-id-1 div.sk-serial {\n",
       "  display: flex;\n",
       "  flex-direction: column;\n",
       "  align-items: center;\n",
       "  background-color: var(--sklearn-color-background);\n",
       "  padding-right: 1em;\n",
       "  padding-left: 1em;\n",
       "}\n",
       "\n",
       "\n",
       "/* Toggleable style: style used for estimator/Pipeline/ColumnTransformer box that is\n",
       "clickable and can be expanded/collapsed.\n",
       "- Pipeline and ColumnTransformer use this feature and define the default style\n",
       "- Estimators will overwrite some part of the style using the `sk-estimator` class\n",
       "*/\n",
       "\n",
       "/* Pipeline and ColumnTransformer style (default) */\n",
       "\n",
       "#sk-container-id-1 div.sk-toggleable {\n",
       "  /* Default theme specific background. It is overwritten whether we have a\n",
       "  specific estimator or a Pipeline/ColumnTransformer */\n",
       "  background-color: var(--sklearn-color-background);\n",
       "}\n",
       "\n",
       "/* Toggleable label */\n",
       "#sk-container-id-1 label.sk-toggleable__label {\n",
       "  cursor: pointer;\n",
       "  display: block;\n",
       "  width: 100%;\n",
       "  margin-bottom: 0;\n",
       "  padding: 0.5em;\n",
       "  box-sizing: border-box;\n",
       "  text-align: center;\n",
       "}\n",
       "\n",
       "#sk-container-id-1 label.sk-toggleable__label-arrow:before {\n",
       "  /* Arrow on the left of the label */\n",
       "  content: \"▸\";\n",
       "  float: left;\n",
       "  margin-right: 0.25em;\n",
       "  color: var(--sklearn-color-icon);\n",
       "}\n",
       "\n",
       "#sk-container-id-1 label.sk-toggleable__label-arrow:hover:before {\n",
       "  color: var(--sklearn-color-text);\n",
       "}\n",
       "\n",
       "/* Toggleable content - dropdown */\n",
       "\n",
       "#sk-container-id-1 div.sk-toggleable__content {\n",
       "  max-height: 0;\n",
       "  max-width: 0;\n",
       "  overflow: hidden;\n",
       "  text-align: left;\n",
       "  /* unfitted */\n",
       "  background-color: var(--sklearn-color-unfitted-level-0);\n",
       "}\n",
       "\n",
       "#sk-container-id-1 div.sk-toggleable__content.fitted {\n",
       "  /* fitted */\n",
       "  background-color: var(--sklearn-color-fitted-level-0);\n",
       "}\n",
       "\n",
       "#sk-container-id-1 div.sk-toggleable__content pre {\n",
       "  margin: 0.2em;\n",
       "  border-radius: 0.25em;\n",
       "  color: var(--sklearn-color-text);\n",
       "  /* unfitted */\n",
       "  background-color: var(--sklearn-color-unfitted-level-0);\n",
       "}\n",
       "\n",
       "#sk-container-id-1 div.sk-toggleable__content.fitted pre {\n",
       "  /* unfitted */\n",
       "  background-color: var(--sklearn-color-fitted-level-0);\n",
       "}\n",
       "\n",
       "#sk-container-id-1 input.sk-toggleable__control:checked~div.sk-toggleable__content {\n",
       "  /* Expand drop-down */\n",
       "  max-height: 200px;\n",
       "  max-width: 100%;\n",
       "  overflow: auto;\n",
       "}\n",
       "\n",
       "#sk-container-id-1 input.sk-toggleable__control:checked~label.sk-toggleable__label-arrow:before {\n",
       "  content: \"▾\";\n",
       "}\n",
       "\n",
       "/* Pipeline/ColumnTransformer-specific style */\n",
       "\n",
       "#sk-container-id-1 div.sk-label input.sk-toggleable__control:checked~label.sk-toggleable__label {\n",
       "  color: var(--sklearn-color-text);\n",
       "  background-color: var(--sklearn-color-unfitted-level-2);\n",
       "}\n",
       "\n",
       "#sk-container-id-1 div.sk-label.fitted input.sk-toggleable__control:checked~label.sk-toggleable__label {\n",
       "  background-color: var(--sklearn-color-fitted-level-2);\n",
       "}\n",
       "\n",
       "/* Estimator-specific style */\n",
       "\n",
       "/* Colorize estimator box */\n",
       "#sk-container-id-1 div.sk-estimator input.sk-toggleable__control:checked~label.sk-toggleable__label {\n",
       "  /* unfitted */\n",
       "  background-color: var(--sklearn-color-unfitted-level-2);\n",
       "}\n",
       "\n",
       "#sk-container-id-1 div.sk-estimator.fitted input.sk-toggleable__control:checked~label.sk-toggleable__label {\n",
       "  /* fitted */\n",
       "  background-color: var(--sklearn-color-fitted-level-2);\n",
       "}\n",
       "\n",
       "#sk-container-id-1 div.sk-label label.sk-toggleable__label,\n",
       "#sk-container-id-1 div.sk-label label {\n",
       "  /* The background is the default theme color */\n",
       "  color: var(--sklearn-color-text-on-default-background);\n",
       "}\n",
       "\n",
       "/* On hover, darken the color of the background */\n",
       "#sk-container-id-1 div.sk-label:hover label.sk-toggleable__label {\n",
       "  color: var(--sklearn-color-text);\n",
       "  background-color: var(--sklearn-color-unfitted-level-2);\n",
       "}\n",
       "\n",
       "/* Label box, darken color on hover, fitted */\n",
       "#sk-container-id-1 div.sk-label.fitted:hover label.sk-toggleable__label.fitted {\n",
       "  color: var(--sklearn-color-text);\n",
       "  background-color: var(--sklearn-color-fitted-level-2);\n",
       "}\n",
       "\n",
       "/* Estimator label */\n",
       "\n",
       "#sk-container-id-1 div.sk-label label {\n",
       "  font-family: monospace;\n",
       "  font-weight: bold;\n",
       "  display: inline-block;\n",
       "  line-height: 1.2em;\n",
       "}\n",
       "\n",
       "#sk-container-id-1 div.sk-label-container {\n",
       "  text-align: center;\n",
       "}\n",
       "\n",
       "/* Estimator-specific */\n",
       "#sk-container-id-1 div.sk-estimator {\n",
       "  font-family: monospace;\n",
       "  border: 1px dotted var(--sklearn-color-border-box);\n",
       "  border-radius: 0.25em;\n",
       "  box-sizing: border-box;\n",
       "  margin-bottom: 0.5em;\n",
       "  /* unfitted */\n",
       "  background-color: var(--sklearn-color-unfitted-level-0);\n",
       "}\n",
       "\n",
       "#sk-container-id-1 div.sk-estimator.fitted {\n",
       "  /* fitted */\n",
       "  background-color: var(--sklearn-color-fitted-level-0);\n",
       "}\n",
       "\n",
       "/* on hover */\n",
       "#sk-container-id-1 div.sk-estimator:hover {\n",
       "  /* unfitted */\n",
       "  background-color: var(--sklearn-color-unfitted-level-2);\n",
       "}\n",
       "\n",
       "#sk-container-id-1 div.sk-estimator.fitted:hover {\n",
       "  /* fitted */\n",
       "  background-color: var(--sklearn-color-fitted-level-2);\n",
       "}\n",
       "\n",
       "/* Specification for estimator info (e.g. \"i\" and \"?\") */\n",
       "\n",
       "/* Common style for \"i\" and \"?\" */\n",
       "\n",
       ".sk-estimator-doc-link,\n",
       "a:link.sk-estimator-doc-link,\n",
       "a:visited.sk-estimator-doc-link {\n",
       "  float: right;\n",
       "  font-size: smaller;\n",
       "  line-height: 1em;\n",
       "  font-family: monospace;\n",
       "  background-color: var(--sklearn-color-background);\n",
       "  border-radius: 1em;\n",
       "  height: 1em;\n",
       "  width: 1em;\n",
       "  text-decoration: none !important;\n",
       "  margin-left: 1ex;\n",
       "  /* unfitted */\n",
       "  border: var(--sklearn-color-unfitted-level-1) 1pt solid;\n",
       "  color: var(--sklearn-color-unfitted-level-1);\n",
       "}\n",
       "\n",
       ".sk-estimator-doc-link.fitted,\n",
       "a:link.sk-estimator-doc-link.fitted,\n",
       "a:visited.sk-estimator-doc-link.fitted {\n",
       "  /* fitted */\n",
       "  border: var(--sklearn-color-fitted-level-1) 1pt solid;\n",
       "  color: var(--sklearn-color-fitted-level-1);\n",
       "}\n",
       "\n",
       "/* On hover */\n",
       "div.sk-estimator:hover .sk-estimator-doc-link:hover,\n",
       ".sk-estimator-doc-link:hover,\n",
       "div.sk-label-container:hover .sk-estimator-doc-link:hover,\n",
       ".sk-estimator-doc-link:hover {\n",
       "  /* unfitted */\n",
       "  background-color: var(--sklearn-color-unfitted-level-3);\n",
       "  color: var(--sklearn-color-background);\n",
       "  text-decoration: none;\n",
       "}\n",
       "\n",
       "div.sk-estimator.fitted:hover .sk-estimator-doc-link.fitted:hover,\n",
       ".sk-estimator-doc-link.fitted:hover,\n",
       "div.sk-label-container:hover .sk-estimator-doc-link.fitted:hover,\n",
       ".sk-estimator-doc-link.fitted:hover {\n",
       "  /* fitted */\n",
       "  background-color: var(--sklearn-color-fitted-level-3);\n",
       "  color: var(--sklearn-color-background);\n",
       "  text-decoration: none;\n",
       "}\n",
       "\n",
       "/* Span, style for the box shown on hovering the info icon */\n",
       ".sk-estimator-doc-link span {\n",
       "  display: none;\n",
       "  z-index: 9999;\n",
       "  position: relative;\n",
       "  font-weight: normal;\n",
       "  right: .2ex;\n",
       "  padding: .5ex;\n",
       "  margin: .5ex;\n",
       "  width: min-content;\n",
       "  min-width: 20ex;\n",
       "  max-width: 50ex;\n",
       "  color: var(--sklearn-color-text);\n",
       "  box-shadow: 2pt 2pt 4pt #999;\n",
       "  /* unfitted */\n",
       "  background: var(--sklearn-color-unfitted-level-0);\n",
       "  border: .5pt solid var(--sklearn-color-unfitted-level-3);\n",
       "}\n",
       "\n",
       ".sk-estimator-doc-link.fitted span {\n",
       "  /* fitted */\n",
       "  background: var(--sklearn-color-fitted-level-0);\n",
       "  border: var(--sklearn-color-fitted-level-3);\n",
       "}\n",
       "\n",
       ".sk-estimator-doc-link:hover span {\n",
       "  display: block;\n",
       "}\n",
       "\n",
       "/* \"?\"-specific style due to the `<a>` HTML tag */\n",
       "\n",
       "#sk-container-id-1 a.estimator_doc_link {\n",
       "  float: right;\n",
       "  font-size: 1rem;\n",
       "  line-height: 1em;\n",
       "  font-family: monospace;\n",
       "  background-color: var(--sklearn-color-background);\n",
       "  border-radius: 1rem;\n",
       "  height: 1rem;\n",
       "  width: 1rem;\n",
       "  text-decoration: none;\n",
       "  /* unfitted */\n",
       "  color: var(--sklearn-color-unfitted-level-1);\n",
       "  border: var(--sklearn-color-unfitted-level-1) 1pt solid;\n",
       "}\n",
       "\n",
       "#sk-container-id-1 a.estimator_doc_link.fitted {\n",
       "  /* fitted */\n",
       "  border: var(--sklearn-color-fitted-level-1) 1pt solid;\n",
       "  color: var(--sklearn-color-fitted-level-1);\n",
       "}\n",
       "\n",
       "/* On hover */\n",
       "#sk-container-id-1 a.estimator_doc_link:hover {\n",
       "  /* unfitted */\n",
       "  background-color: var(--sklearn-color-unfitted-level-3);\n",
       "  color: var(--sklearn-color-background);\n",
       "  text-decoration: none;\n",
       "}\n",
       "\n",
       "#sk-container-id-1 a.estimator_doc_link.fitted:hover {\n",
       "  /* fitted */\n",
       "  background-color: var(--sklearn-color-fitted-level-3);\n",
       "}\n",
       "</style><div id=\"sk-container-id-1\" class=\"sk-top-container\"><div class=\"sk-text-repr-fallback\"><pre>NearestNeighbors(algorithm=&#x27;ball_tree&#x27;, n_neighbors=20)</pre><b>In a Jupyter environment, please rerun this cell to show the HTML representation or trust the notebook. <br />On GitHub, the HTML representation is unable to render, please try loading this page with nbviewer.org.</b></div><div class=\"sk-container\" hidden><div class=\"sk-item\"><div class=\"sk-estimator fitted sk-toggleable\"><input class=\"sk-toggleable__control sk-hidden--visually\" id=\"sk-estimator-id-1\" type=\"checkbox\" checked><label for=\"sk-estimator-id-1\" class=\"sk-toggleable__label fitted sk-toggleable__label-arrow fitted\">&nbsp;&nbsp;NearestNeighbors<a class=\"sk-estimator-doc-link fitted\" rel=\"noreferrer\" target=\"_blank\" href=\"https://scikit-learn.org/1.4/modules/generated/sklearn.neighbors.NearestNeighbors.html\">?<span>Documentation for NearestNeighbors</span></a><span class=\"sk-estimator-doc-link fitted\">i<span>Fitted</span></span></label><div class=\"sk-toggleable__content fitted\"><pre>NearestNeighbors(algorithm=&#x27;ball_tree&#x27;, n_neighbors=20)</pre></div> </div></div></div></div>"
      ],
      "text/plain": [
       "NearestNeighbors(algorithm='ball_tree', n_neighbors=20)"
      ]
     },
     "execution_count": 20,
     "metadata": {},
     "output_type": "execute_result"
    }
   ],
   "source": [
    "# Train a k-Nearest Neighbors model\n",
    "model = NearestNeighbors(n_neighbors=20, algorithm='ball_tree')\n",
    "model.fit(weighted_features)"
   ]
  },
  {
   "cell_type": "markdown",
   "metadata": {},
   "source": [
    "# Bar Chart"
   ]
  },
  {
   "cell_type": "code",
   "execution_count": 21,
   "metadata": {},
   "outputs": [],
   "source": [
    "def visualize_features(original_features, recommendation_features, feature_names, song_title, artist_name):\n",
    "\n",
    "    plt.style.use('default')\n",
    "\n",
    "    # Identify indices of the decade features\n",
    "    decade_indices = [i for i, name in enumerate(feature_names) if 'decade_' in name]\n",
    "\n",
    "    # Create a mask to filter out the decade features\n",
    "    mask = np.ones(len(feature_names), dtype=bool)\n",
    "    mask[decade_indices] = False  # Set decade features to False\n",
    "\n",
    "    # Filter original and recommendation features\n",
    "    filtered_original_features = original_features[0, mask]\n",
    "    filtered_recommendation_features = np.array(recommendation_features)[:, mask].mean(axis=0)\n",
    "    filtered_feature_names = [feature_names[i] for i in range(len(feature_names)) if mask[i]]\n",
    "\n",
    "    # Prepare the x-axis\n",
    "    x = np.arange(len(filtered_feature_names))\n",
    "\n",
    "    plt.figure(figsize=(10, 6))\n",
    "    plt.bar(x - 0.2, filtered_original_features, width=0.4, label=f\"{song_title} by {artist_name}\", color='#e83f1e') \n",
    "    plt.bar(x + 0.2, filtered_recommendation_features, width=0.4, label=\"Recommended Songs (Average)\", color='#419edf') \n",
    "    \n",
    "    plt.xticks(x, filtered_feature_names, ha='center')\n",
    "    plt.title(f\"{song_title} by {artist_name} vs Recommendations\", fontsize=14, fontweight='bold')\n",
    "    plt.ylabel(\"Scaled Feature Values\", fontsize=12)\n",
    "    plt.legend(fontsize=10)\n",
    "    plt.tight_layout()\n",
    "    plt.show()"
   ]
  },
  {
   "cell_type": "markdown",
   "metadata": {},
   "source": [
    "# HTML Code"
   ]
  },
  {
   "cell_type": "code",
   "execution_count": 22,
   "metadata": {},
   "outputs": [],
   "source": [
    "from IPython.display import HTML\n",
    "\n",
    "def convert_uri_to_url(uri):\n",
    "    if isinstance(uri, str) and uri.startswith(\"spotify:track:\"):\n",
    "        track_id = uri.split(\":\")[2]\n",
    "        return f\"https://open.spotify.com/track/{track_id}\"\n",
    "    return None  # Return None for invalid URIs\n",
    "\n",
    "# Add 'url' column to the DataFrame\n",
    "songs_df['url'] = songs_df['uri'].apply(convert_uri_to_url)"
   ]
  },
  {
   "cell_type": "markdown",
   "metadata": {},
   "source": [
    "# Final Function"
   ]
  },
  {
   "cell_type": "code",
   "execution_count": 23,
   "metadata": {},
   "outputs": [],
   "source": [
    "def recommend_songs(song_title, artist_name, num_recommendations=5):\n",
    "    # Preprocess input\n",
    "    song_title = song_title.strip().lower()\n",
    "    artist_name = artist_name.strip().lower()\n",
    "\n",
    "    # Filter the dataset for the input song and artist\n",
    "    song_row = songs_df[\n",
    "        (songs_df['track_lower'].str.contains(song_title)) & \n",
    "        (songs_df['artist_lower'].str.contains(artist_name))\n",
    "    ]\n",
    "    \n",
    "    if song_row.empty:\n",
    "        print(f\"Error: Song '{song_title}' by '{artist_name}' not found in the dataset.\")\n",
    "        return\n",
    "\n",
    "    # Get the index and weighted features of the input song\n",
    "    song_index = song_row.index[0]\n",
    "    song_features = weighted_features.loc[song_index].values.reshape(1, -1)\n",
    "\n",
    "    # Convert to DataFrame with correct feature names\n",
    "    song_features_df = pd.DataFrame(song_features, columns=weighted_features.columns)\n",
    "\n",
    "    # Find nearest neighbors\n",
    "    distances, indices = model.kneighbors(song_features_df)\n",
    "    \n",
    "    # Map indices back to the original DataFrame\n",
    "    recommendations = []\n",
    "    recommendation_features = []  # Store features of recommended songs\n",
    "\n",
    "    for i in indices.flatten():\n",
    "        original_index = songs_df.index[i]  # Map to original index\n",
    "        if (songs_df.loc[original_index, 'track_lower'] != song_row.iloc[0]['track_lower'] and \n",
    "            songs_df.loc[original_index, 'artist_lower'] != song_row.iloc[0]['artist_lower']):\n",
    "            recommendations.append((\n",
    "                songs_df.loc[original_index, 'track'],\n",
    "                songs_df.loc[original_index, 'artist'],\n",
    "                songs_df.loc[original_index, 'url']  # Add the URL\n",
    "            ))\n",
    "            recommendation_features.append(weighted_features.loc[original_index].values)  # Add weighted features\n",
    "        if len(recommendations) >= num_recommendations:\n",
    "            break\n",
    "\n",
    "    # Print recommendations with clickable Spotify links\n",
    "    original_song = song_row.iloc[0]['track']\n",
    "    original_artist = song_row.iloc[0]['artist']\n",
    "    \n",
    "    print(f\"Recommendations for '{original_song}' by {original_artist}:\")\n",
    "    for track, artist, url in recommendations:\n",
    "        display(HTML(f\"- <a href='{url}' target='_blank'>{track} by {artist}</a>\"))\n",
    "\n",
    "    # Visualize features comparison\n",
    "    visualize_features(\n",
    "        song_features, recommendation_features, weighted_features.columns, original_song, original_artist\n",
    "    )\n",
    "\n",
    "    pd.set_option('display.max_colwidth', None) \n",
    "    return pd.DataFrame(recommendations, columns=[\"Track\", \"Artist\", \"URL\"])"
   ]
  },
  {
   "cell_type": "markdown",
   "metadata": {},
   "source": [
    "# User Input"
   ]
  },
  {
   "cell_type": "code",
   "execution_count": 24,
   "metadata": {},
   "outputs": [
    {
     "name": "stdout",
     "output_type": "stream",
     "text": [
      "Recommendations for 'Wild Horses' by The Rolling Stones:\n"
     ]
    },
    {
     "data": {
      "text/html": [
       "- <a href='https://open.spotify.com/track/1OnXz5v4hVdrNLJ9N4MqzL' target='_blank'>Bring On The Rain by Jo Dee Messina With Tim McGraw</a>"
      ],
      "text/plain": [
       "<IPython.core.display.HTML object>"
      ]
     },
     "metadata": {},
     "output_type": "display_data"
    },
    {
     "data": {
      "text/html": [
       "- <a href='https://open.spotify.com/track/3xvcFlh6hHqxyiAFkqpsjZ' target='_blank'>Always And Forever by Luther Vandross</a>"
      ],
      "text/plain": [
       "<IPython.core.display.HTML object>"
      ]
     },
     "metadata": {},
     "output_type": "display_data"
    },
    {
     "data": {
      "text/html": [
       "- <a href='https://open.spotify.com/track/4bBGRlNl2zkBFPftFxW375' target='_blank'>If I Only Had Time by Andy Tielman</a>"
      ],
      "text/plain": [
       "<IPython.core.display.HTML object>"
      ]
     },
     "metadata": {},
     "output_type": "display_data"
    },
    {
     "data": {
      "text/html": [
       "- <a href='https://open.spotify.com/track/1HyfKIkVkKr7E1aprb2uum' target='_blank'>New Horizons by The Don Ellis Orchestra</a>"
      ],
      "text/plain": [
       "<IPython.core.display.HTML object>"
      ]
     },
     "metadata": {},
     "output_type": "display_data"
    },
    {
     "data": {
      "text/html": [
       "- <a href='https://open.spotify.com/track/2frvH9u73udOJ5fcBY70qy' target='_blank'>Patricia Anglaia by Kayak</a>"
      ],
      "text/plain": [
       "<IPython.core.display.HTML object>"
      ]
     },
     "metadata": {},
     "output_type": "display_data"
    },
    {
     "data": {
      "text/html": [
       "- <a href='https://open.spotify.com/track/1bpGmklMjUdJyD70gF8nxI' target='_blank'>Big 'O' by Elmer Bernstein</a>"
      ],
      "text/plain": [
       "<IPython.core.display.HTML object>"
      ]
     },
     "metadata": {},
     "output_type": "display_data"
    },
    {
     "data": {
      "text/html": [
       "- <a href='https://open.spotify.com/track/3ydvQ1vczAWHdXA5h9yToW' target='_blank'>Every Time You Touch Me (I Get High) by Charlie Rich</a>"
      ],
      "text/plain": [
       "<IPython.core.display.HTML object>"
      ]
     },
     "metadata": {},
     "output_type": "display_data"
    },
    {
     "data": {
      "text/html": [
       "- <a href='https://open.spotify.com/track/6mYCs04NSlCQuZokTNj3DH' target='_blank'>I Believe You by Carpenters</a>"
      ],
      "text/plain": [
       "<IPython.core.display.HTML object>"
      ]
     },
     "metadata": {},
     "output_type": "display_data"
    },
    {
     "data": {
      "text/html": [
       "- <a href='https://open.spotify.com/track/6cTZQGs1U5xkWA1fgLc8tH' target='_blank'>I Believe by Diamond Rio</a>"
      ],
      "text/plain": [
       "<IPython.core.display.HTML object>"
      ]
     },
     "metadata": {},
     "output_type": "display_data"
    },
    {
     "data": {
      "text/html": [
       "- <a href='https://open.spotify.com/track/37svRwK7eSg95EEdqEACl7' target='_blank'>Lonely Fire by Miles Davis</a>"
      ],
      "text/plain": [
       "<IPython.core.display.HTML object>"
      ]
     },
     "metadata": {},
     "output_type": "display_data"
    },
    {
     "data": {
      "image/png": "[encoded data removed]",
      "text/plain": [
       "<Figure size 1000x600 with 1 Axes>"
      ]
     },
     "metadata": {},
     "output_type": "display_data"
    },
    {
     "data": {
      "text/html": [
       "<div>\n",
       "<style scoped>\n",
       "    .dataframe tbody tr th:only-of-type {\n",
       "        vertical-align: middle;\n",
       "    }\n",
       "\n",
       "    .dataframe tbody tr th {\n",
       "        vertical-align: top;\n",
       "    }\n",
       "\n",
       "    .dataframe thead th {\n",
       "        text-align: right;\n",
       "    }\n",
       "</style>\n",
       "<table border=\"1\" class=\"dataframe\">\n",
       "  <thead>\n",
       "    <tr style=\"text-align: right;\">\n",
       "      <th></th>\n",
       "      <th>Track</th>\n",
       "      <th>Artist</th>\n",
       "      <th>URL</th>\n",
       "    </tr>\n",
       "  </thead>\n",
       "  <tbody>\n",
       "    <tr>\n",
       "      <th>0</th>\n",
       "      <td>Bring On The Rain</td>\n",
       "      <td>Jo Dee Messina With Tim McGraw</td>\n",
       "      <td>https://open.spotify.com/track/1OnXz5v4hVdrNLJ9N4MqzL</td>\n",
       "    </tr>\n",
       "    <tr>\n",
       "      <th>1</th>\n",
       "      <td>Always And Forever</td>\n",
       "      <td>Luther Vandross</td>\n",
       "      <td>https://open.spotify.com/track/3xvcFlh6hHqxyiAFkqpsjZ</td>\n",
       "    </tr>\n",
       "    <tr>\n",
       "      <th>2</th>\n",
       "      <td>If I Only Had Time</td>\n",
       "      <td>Andy Tielman</td>\n",
       "      <td>https://open.spotify.com/track/4bBGRlNl2zkBFPftFxW375</td>\n",
       "    </tr>\n",
       "    <tr>\n",
       "      <th>3</th>\n",
       "      <td>New Horizons</td>\n",
       "      <td>The Don Ellis Orchestra</td>\n",
       "      <td>https://open.spotify.com/track/1HyfKIkVkKr7E1aprb2uum</td>\n",
       "    </tr>\n",
       "    <tr>\n",
       "      <th>4</th>\n",
       "      <td>Patricia Anglaia</td>\n",
       "      <td>Kayak</td>\n",
       "      <td>https://open.spotify.com/track/2frvH9u73udOJ5fcBY70qy</td>\n",
       "    </tr>\n",
       "    <tr>\n",
       "      <th>5</th>\n",
       "      <td>Big 'O'</td>\n",
       "      <td>Elmer Bernstein</td>\n",
       "      <td>https://open.spotify.com/track/1bpGmklMjUdJyD70gF8nxI</td>\n",
       "    </tr>\n",
       "    <tr>\n",
       "      <th>6</th>\n",
       "      <td>Every Time You Touch Me (I Get High)</td>\n",
       "      <td>Charlie Rich</td>\n",
       "      <td>https://open.spotify.com/track/3ydvQ1vczAWHdXA5h9yToW</td>\n",
       "    </tr>\n",
       "    <tr>\n",
       "      <th>7</th>\n",
       "      <td>I Believe You</td>\n",
       "      <td>Carpenters</td>\n",
       "      <td>https://open.spotify.com/track/6mYCs04NSlCQuZokTNj3DH</td>\n",
       "    </tr>\n",
       "    <tr>\n",
       "      <th>8</th>\n",
       "      <td>I Believe</td>\n",
       "      <td>Diamond Rio</td>\n",
       "      <td>https://open.spotify.com/track/6cTZQGs1U5xkWA1fgLc8tH</td>\n",
       "    </tr>\n",
       "    <tr>\n",
       "      <th>9</th>\n",
       "      <td>Lonely Fire</td>\n",
       "      <td>Miles Davis</td>\n",
       "      <td>https://open.spotify.com/track/37svRwK7eSg95EEdqEACl7</td>\n",
       "    </tr>\n",
       "  </tbody>\n",
       "</table>\n",
       "</div>"
      ],
      "text/plain": [
       "                                  Track                          Artist  \\\n",
       "0                     Bring On The Rain  Jo Dee Messina With Tim McGraw   \n",
       "1                    Always And Forever                 Luther Vandross   \n",
       "2                    If I Only Had Time                    Andy Tielman   \n",
       "3                          New Horizons         The Don Ellis Orchestra   \n",
       "4                      Patricia Anglaia                           Kayak   \n",
       "5                               Big 'O'                 Elmer Bernstein   \n",
       "6  Every Time You Touch Me (I Get High)                    Charlie Rich   \n",
       "7                         I Believe You                      Carpenters   \n",
       "8                             I Believe                     Diamond Rio   \n",
       "9                           Lonely Fire                     Miles Davis   \n",
       "\n",
       "                                                     URL  \n",
       "0  https://open.spotify.com/track/1OnXz5v4hVdrNLJ9N4MqzL  \n",
       "1  https://open.spotify.com/track/3xvcFlh6hHqxyiAFkqpsjZ  \n",
       "2  https://open.spotify.com/track/4bBGRlNl2zkBFPftFxW375  \n",
       "3  https://open.spotify.com/track/1HyfKIkVkKr7E1aprb2uum  \n",
       "4  https://open.spotify.com/track/2frvH9u73udOJ5fcBY70qy  \n",
       "5  https://open.spotify.com/track/1bpGmklMjUdJyD70gF8nxI  \n",
       "6  https://open.spotify.com/track/3ydvQ1vczAWHdXA5h9yToW  \n",
       "7  https://open.spotify.com/track/6mYCs04NSlCQuZokTNj3DH  \n",
       "8  https://open.spotify.com/track/6cTZQGs1U5xkWA1fgLc8tH  \n",
       "9  https://open.spotify.com/track/37svRwK7eSg95EEdqEACl7  "
      ]
     },
     "execution_count": 24,
     "metadata": {},
     "output_type": "execute_result"
    }
   ],
   "source": [
    "recommend_songs(\"wild horses\", \"rolling\", 10)"
   ]
  },
  {
   "cell_type": "markdown",
   "metadata": {},
   "source": [
    "The bar graph evaluates model accuracy by comparing predictions to actual values, highlighting strengths and areas for improvement."
   ]
  },
  {
   "cell_type": "code",
   "execution_count": 25,
   "metadata": {},
   "outputs": [
    {
     "name": "stdout",
     "output_type": "stream",
     "text": [
      "Recommendations for 'Take It Easy' by Eagles:\n"
     ]
    },
    {
     "data": {
      "text/html": [
       "- <a href='https://open.spotify.com/track/5YRBpKTf5lKBy9jYS2TDCn' target='_blank'>Good Combination by Sonny & Cher</a>"
      ],
      "text/plain": [
       "<IPython.core.display.HTML object>"
      ]
     },
     "metadata": {},
     "output_type": "display_data"
    },
    {
     "data": {
      "text/html": [
       "- <a href='https://open.spotify.com/track/7xFA8p9ZhpoSFRlr9NawLv' target='_blank'>Dinah Flo by Boz Scaggs</a>"
      ],
      "text/plain": [
       "<IPython.core.display.HTML object>"
      ]
     },
     "metadata": {},
     "output_type": "display_data"
    },
    {
     "data": {
      "text/html": [
       "- <a href='https://open.spotify.com/track/3kYnliVTDOrBKXm4DS1icg' target='_blank'>I'm Gonna Be (500 Miles) by The Proclaimers</a>"
      ],
      "text/plain": [
       "<IPython.core.display.HTML object>"
      ]
     },
     "metadata": {},
     "output_type": "display_data"
    },
    {
     "data": {
      "text/html": [
       "- <a href='https://open.spotify.com/track/4LlNoNZflek4hZyZigCxpW' target='_blank'>Just Another Day In Paradise by Phil Vassar</a>"
      ],
      "text/plain": [
       "<IPython.core.display.HTML object>"
      ]
     },
     "metadata": {},
     "output_type": "display_data"
    },
    {
     "data": {
      "text/html": [
       "- <a href='https://open.spotify.com/track/6sCD4qBO5y6IYbHAvjhKbi' target='_blank'>Raate Sapna by Kanchan</a>"
      ],
      "text/plain": [
       "<IPython.core.display.HTML object>"
      ]
     },
     "metadata": {},
     "output_type": "display_data"
    },
    {
     "data": {
      "text/html": [
       "- <a href='https://open.spotify.com/track/6foY66mWZN0pSRjZ408c00' target='_blank'>Whiskey Glasses by Morgan Wallen</a>"
      ],
      "text/plain": [
       "<IPython.core.display.HTML object>"
      ]
     },
     "metadata": {},
     "output_type": "display_data"
    },
    {
     "data": {
      "text/html": [
       "- <a href='https://open.spotify.com/track/6UIyQwhvmx8VuAVtMJeL8O' target='_blank'>El Dios De Israel Es Poderoso by Palabra en Acción</a>"
      ],
      "text/plain": [
       "<IPython.core.display.HTML object>"
      ]
     },
     "metadata": {},
     "output_type": "display_data"
    },
    {
     "data": {
      "text/html": [
       "- <a href='https://open.spotify.com/track/5Pw3EOLqgOetvpyXITNH4M' target='_blank'>Não Marque as Horas by Cátia de França</a>"
      ],
      "text/plain": [
       "<IPython.core.display.HTML object>"
      ]
     },
     "metadata": {},
     "output_type": "display_data"
    },
    {
     "data": {
      "text/html": [
       "- <a href='https://open.spotify.com/track/4WYakVfLXpjKkonAgSqxpJ' target='_blank'>Love And Happiness / Soul Man - Live / 1983 by Otis Clay</a>"
      ],
      "text/plain": [
       "<IPython.core.display.HTML object>"
      ]
     },
     "metadata": {},
     "output_type": "display_data"
    },
    {
     "data": {
      "text/html": [
       "- <a href='https://open.spotify.com/track/7Msq9qojB7yORuJvz49iUy' target='_blank'>P.S. I Love You by The Beatles</a>"
      ],
      "text/plain": [
       "<IPython.core.display.HTML object>"
      ]
     },
     "metadata": {},
     "output_type": "display_data"
    },
    {
     "data": {
      "image/png": "[encoded data removed]",
      "text/plain": [
       "<Figure size 1000x600 with 1 Axes>"
      ]
     },
     "metadata": {},
     "output_type": "display_data"
    },
    {
     "data": {
      "text/html": [
       "<div>\n",
       "<style scoped>\n",
       "    .dataframe tbody tr th:only-of-type {\n",
       "        vertical-align: middle;\n",
       "    }\n",
       "\n",
       "    .dataframe tbody tr th {\n",
       "        vertical-align: top;\n",
       "    }\n",
       "\n",
       "    .dataframe thead th {\n",
       "        text-align: right;\n",
       "    }\n",
       "</style>\n",
       "<table border=\"1\" class=\"dataframe\">\n",
       "  <thead>\n",
       "    <tr style=\"text-align: right;\">\n",
       "      <th></th>\n",
       "      <th>Track</th>\n",
       "      <th>Artist</th>\n",
       "      <th>URL</th>\n",
       "    </tr>\n",
       "  </thead>\n",
       "  <tbody>\n",
       "    <tr>\n",
       "      <th>0</th>\n",
       "      <td>Good Combination</td>\n",
       "      <td>Sonny &amp; Cher</td>\n",
       "      <td>https://open.spotify.com/track/5YRBpKTf5lKBy9jYS2TDCn</td>\n",
       "    </tr>\n",
       "    <tr>\n",
       "      <th>1</th>\n",
       "      <td>Dinah Flo</td>\n",
       "      <td>Boz Scaggs</td>\n",
       "      <td>https://open.spotify.com/track/7xFA8p9ZhpoSFRlr9NawLv</td>\n",
       "    </tr>\n",
       "    <tr>\n",
       "      <th>2</th>\n",
       "      <td>I'm Gonna Be (500 Miles)</td>\n",
       "      <td>The Proclaimers</td>\n",
       "      <td>https://open.spotify.com/track/3kYnliVTDOrBKXm4DS1icg</td>\n",
       "    </tr>\n",
       "    <tr>\n",
       "      <th>3</th>\n",
       "      <td>Just Another Day In Paradise</td>\n",
       "      <td>Phil Vassar</td>\n",
       "      <td>https://open.spotify.com/track/4LlNoNZflek4hZyZigCxpW</td>\n",
       "    </tr>\n",
       "    <tr>\n",
       "      <th>4</th>\n",
       "      <td>Raate Sapna</td>\n",
       "      <td>Kanchan</td>\n",
       "      <td>https://open.spotify.com/track/6sCD4qBO5y6IYbHAvjhKbi</td>\n",
       "    </tr>\n",
       "    <tr>\n",
       "      <th>5</th>\n",
       "      <td>Whiskey Glasses</td>\n",
       "      <td>Morgan Wallen</td>\n",
       "      <td>https://open.spotify.com/track/6foY66mWZN0pSRjZ408c00</td>\n",
       "    </tr>\n",
       "    <tr>\n",
       "      <th>6</th>\n",
       "      <td>El Dios De Israel Es Poderoso</td>\n",
       "      <td>Palabra en Acción</td>\n",
       "      <td>https://open.spotify.com/track/6UIyQwhvmx8VuAVtMJeL8O</td>\n",
       "    </tr>\n",
       "    <tr>\n",
       "      <th>7</th>\n",
       "      <td>Não Marque as Horas</td>\n",
       "      <td>Cátia de França</td>\n",
       "      <td>https://open.spotify.com/track/5Pw3EOLqgOetvpyXITNH4M</td>\n",
       "    </tr>\n",
       "    <tr>\n",
       "      <th>8</th>\n",
       "      <td>Love And Happiness / Soul Man - Live / 1983</td>\n",
       "      <td>Otis Clay</td>\n",
       "      <td>https://open.spotify.com/track/4WYakVfLXpjKkonAgSqxpJ</td>\n",
       "    </tr>\n",
       "    <tr>\n",
       "      <th>9</th>\n",
       "      <td>P.S. I Love You</td>\n",
       "      <td>The Beatles</td>\n",
       "      <td>https://open.spotify.com/track/7Msq9qojB7yORuJvz49iUy</td>\n",
       "    </tr>\n",
       "  </tbody>\n",
       "</table>\n",
       "</div>"
      ],
      "text/plain": [
       "                                         Track             Artist  \\\n",
       "0                             Good Combination       Sonny & Cher   \n",
       "1                                    Dinah Flo         Boz Scaggs   \n",
       "2                     I'm Gonna Be (500 Miles)    The Proclaimers   \n",
       "3                 Just Another Day In Paradise        Phil Vassar   \n",
       "4                                  Raate Sapna            Kanchan   \n",
       "5                              Whiskey Glasses      Morgan Wallen   \n",
       "6                El Dios De Israel Es Poderoso  Palabra en Acción   \n",
       "7                          Não Marque as Horas    Cátia de França   \n",
       "8  Love And Happiness / Soul Man - Live / 1983          Otis Clay   \n",
       "9                              P.S. I Love You        The Beatles   \n",
       "\n",
       "                                                     URL  \n",
       "0  https://open.spotify.com/track/5YRBpKTf5lKBy9jYS2TDCn  \n",
       "1  https://open.spotify.com/track/7xFA8p9ZhpoSFRlr9NawLv  \n",
       "2  https://open.spotify.com/track/3kYnliVTDOrBKXm4DS1icg  \n",
       "3  https://open.spotify.com/track/4LlNoNZflek4hZyZigCxpW  \n",
       "4  https://open.spotify.com/track/6sCD4qBO5y6IYbHAvjhKbi  \n",
       "5  https://open.spotify.com/track/6foY66mWZN0pSRjZ408c00  \n",
       "6  https://open.spotify.com/track/6UIyQwhvmx8VuAVtMJeL8O  \n",
       "7  https://open.spotify.com/track/5Pw3EOLqgOetvpyXITNH4M  \n",
       "8  https://open.spotify.com/track/4WYakVfLXpjKkonAgSqxpJ  \n",
       "9  https://open.spotify.com/track/7Msq9qojB7yORuJvz49iUy  "
      ]
     },
     "execution_count": 25,
     "metadata": {},
     "output_type": "execute_result"
    }
   ],
   "source": [
    "recommend_songs(\"easy\", \"eagles\", 10)"
   ]
  },
  {
   "cell_type": "code",
   "execution_count": 26,
   "metadata": {},
   "outputs": [
    {
     "name": "stdout",
     "output_type": "stream",
     "text": [
      "Recommendations for 'Before He Cheats' by Carrie Underwood:\n"
     ]
    },
    {
     "data": {
      "text/html": [
       "- <a href='https://open.spotify.com/track/7vGuf3Y35N4wmASOKLUVVU' target='_blank'>Silence by Marshmello Featuring Khalid</a>"
      ],
      "text/plain": [
       "<IPython.core.display.HTML object>"
      ]
     },
     "metadata": {},
     "output_type": "display_data"
    },
    {
     "data": {
      "text/html": [
       "- <a href='https://open.spotify.com/track/367dmPOxuMP8FsrZHenNnq' target='_blank'>That's What Love Is For by Amy Grant</a>"
      ],
      "text/plain": [
       "<IPython.core.display.HTML object>"
      ]
     },
     "metadata": {},
     "output_type": "display_data"
    },
    {
     "data": {
      "text/html": [
       "- <a href='https://open.spotify.com/track/3ySlOXQ77aZd5NLu0H0Ddc' target='_blank'>Didn't You Know How Much I Loved You by Kellie Pickler</a>"
      ],
      "text/plain": [
       "<IPython.core.display.HTML object>"
      ]
     },
     "metadata": {},
     "output_type": "display_data"
    },
    {
     "data": {
      "text/html": [
       "- <a href='https://open.spotify.com/track/7t8oQycrEftd8NuWdCcfQb' target='_blank'>Like My Mother Does by Lauren Alaina</a>"
      ],
      "text/plain": [
       "<IPython.core.display.HTML object>"
      ]
     },
     "metadata": {},
     "output_type": "display_data"
    },
    {
     "data": {
      "text/html": [
       "- <a href='https://open.spotify.com/track/56DXpIS5RAMfRFs2mVcjf7' target='_blank'>Drugs Or Jesus by Tim McGraw</a>"
      ],
      "text/plain": [
       "<IPython.core.display.HTML object>"
      ]
     },
     "metadata": {},
     "output_type": "display_data"
    },
    {
     "data": {
      "text/html": [
       "- <a href='https://open.spotify.com/track/7A5CReD6yWe0rrkJym34QI' target='_blank'>Do I by Luke Bryan</a>"
      ],
      "text/plain": [
       "<IPython.core.display.HTML object>"
      ]
     },
     "metadata": {},
     "output_type": "display_data"
    },
    {
     "data": {
      "text/html": [
       "- <a href='https://open.spotify.com/track/7HPzwsJiZAsrM5U1KMGleZ' target='_blank'>Part Of The Problem by R. Stevie Moore</a>"
      ],
      "text/plain": [
       "<IPython.core.display.HTML object>"
      ]
     },
     "metadata": {},
     "output_type": "display_data"
    },
    {
     "data": {
      "text/html": [
       "- <a href='https://open.spotify.com/track/0vvt4IZOMkRug195S4MUq0' target='_blank'>If This Was A Movie by Taylor Swift</a>"
      ],
      "text/plain": [
       "<IPython.core.display.HTML object>"
      ]
     },
     "metadata": {},
     "output_type": "display_data"
    },
    {
     "data": {
      "text/html": [
       "- <a href='https://open.spotify.com/track/7pUYjnFTXMs0mFWsE9epqV' target='_blank'>Something To Believe In by Poison</a>"
      ],
      "text/plain": [
       "<IPython.core.display.HTML object>"
      ]
     },
     "metadata": {},
     "output_type": "display_data"
    },
    {
     "data": {
      "text/html": [
       "- <a href='https://open.spotify.com/track/32UIpKdyGzgTPTO8e5ge5c' target='_blank'>Amen by Meek Mill Featuring Drake</a>"
      ],
      "text/plain": [
       "<IPython.core.display.HTML object>"
      ]
     },
     "metadata": {},
     "output_type": "display_data"
    },
    {
     "data": {
      "image/png": "[encoded data removed]",
      "text/plain": [
       "<Figure size 1000x600 with 1 Axes>"
      ]
     },
     "metadata": {},
     "output_type": "display_data"
    },
    {
     "data": {
      "text/html": [
       "<div>\n",
       "<style scoped>\n",
       "    .dataframe tbody tr th:only-of-type {\n",
       "        vertical-align: middle;\n",
       "    }\n",
       "\n",
       "    .dataframe tbody tr th {\n",
       "        vertical-align: top;\n",
       "    }\n",
       "\n",
       "    .dataframe thead th {\n",
       "        text-align: right;\n",
       "    }\n",
       "</style>\n",
       "<table border=\"1\" class=\"dataframe\">\n",
       "  <thead>\n",
       "    <tr style=\"text-align: right;\">\n",
       "      <th></th>\n",
       "      <th>Track</th>\n",
       "      <th>Artist</th>\n",
       "      <th>URL</th>\n",
       "    </tr>\n",
       "  </thead>\n",
       "  <tbody>\n",
       "    <tr>\n",
       "      <th>0</th>\n",
       "      <td>Silence</td>\n",
       "      <td>Marshmello Featuring Khalid</td>\n",
       "      <td>https://open.spotify.com/track/7vGuf3Y35N4wmASOKLUVVU</td>\n",
       "    </tr>\n",
       "    <tr>\n",
       "      <th>1</th>\n",
       "      <td>That's What Love Is For</td>\n",
       "      <td>Amy Grant</td>\n",
       "      <td>https://open.spotify.com/track/367dmPOxuMP8FsrZHenNnq</td>\n",
       "    </tr>\n",
       "    <tr>\n",
       "      <th>2</th>\n",
       "      <td>Didn't You Know How Much I Loved You</td>\n",
       "      <td>Kellie Pickler</td>\n",
       "      <td>https://open.spotify.com/track/3ySlOXQ77aZd5NLu0H0Ddc</td>\n",
       "    </tr>\n",
       "    <tr>\n",
       "      <th>3</th>\n",
       "      <td>Like My Mother Does</td>\n",
       "      <td>Lauren Alaina</td>\n",
       "      <td>https://open.spotify.com/track/7t8oQycrEftd8NuWdCcfQb</td>\n",
       "    </tr>\n",
       "    <tr>\n",
       "      <th>4</th>\n",
       "      <td>Drugs Or Jesus</td>\n",
       "      <td>Tim McGraw</td>\n",
       "      <td>https://open.spotify.com/track/56DXpIS5RAMfRFs2mVcjf7</td>\n",
       "    </tr>\n",
       "    <tr>\n",
       "      <th>5</th>\n",
       "      <td>Do I</td>\n",
       "      <td>Luke Bryan</td>\n",
       "      <td>https://open.spotify.com/track/7A5CReD6yWe0rrkJym34QI</td>\n",
       "    </tr>\n",
       "    <tr>\n",
       "      <th>6</th>\n",
       "      <td>Part Of The Problem</td>\n",
       "      <td>R. Stevie Moore</td>\n",
       "      <td>https://open.spotify.com/track/7HPzwsJiZAsrM5U1KMGleZ</td>\n",
       "    </tr>\n",
       "    <tr>\n",
       "      <th>7</th>\n",
       "      <td>If This Was A Movie</td>\n",
       "      <td>Taylor Swift</td>\n",
       "      <td>https://open.spotify.com/track/0vvt4IZOMkRug195S4MUq0</td>\n",
       "    </tr>\n",
       "    <tr>\n",
       "      <th>8</th>\n",
       "      <td>Something To Believe In</td>\n",
       "      <td>Poison</td>\n",
       "      <td>https://open.spotify.com/track/7pUYjnFTXMs0mFWsE9epqV</td>\n",
       "    </tr>\n",
       "    <tr>\n",
       "      <th>9</th>\n",
       "      <td>Amen</td>\n",
       "      <td>Meek Mill Featuring Drake</td>\n",
       "      <td>https://open.spotify.com/track/32UIpKdyGzgTPTO8e5ge5c</td>\n",
       "    </tr>\n",
       "  </tbody>\n",
       "</table>\n",
       "</div>"
      ],
      "text/plain": [
       "                                  Track                       Artist  \\\n",
       "0                               Silence  Marshmello Featuring Khalid   \n",
       "1               That's What Love Is For                    Amy Grant   \n",
       "2  Didn't You Know How Much I Loved You               Kellie Pickler   \n",
       "3                   Like My Mother Does                Lauren Alaina   \n",
       "4                        Drugs Or Jesus                   Tim McGraw   \n",
       "5                                  Do I                   Luke Bryan   \n",
       "6                   Part Of The Problem              R. Stevie Moore   \n",
       "7                   If This Was A Movie                 Taylor Swift   \n",
       "8               Something To Believe In                       Poison   \n",
       "9                                  Amen    Meek Mill Featuring Drake   \n",
       "\n",
       "                                                     URL  \n",
       "0  https://open.spotify.com/track/7vGuf3Y35N4wmASOKLUVVU  \n",
       "1  https://open.spotify.com/track/367dmPOxuMP8FsrZHenNnq  \n",
       "2  https://open.spotify.com/track/3ySlOXQ77aZd5NLu0H0Ddc  \n",
       "3  https://open.spotify.com/track/7t8oQycrEftd8NuWdCcfQb  \n",
       "4  https://open.spotify.com/track/56DXpIS5RAMfRFs2mVcjf7  \n",
       "5  https://open.spotify.com/track/7A5CReD6yWe0rrkJym34QI  \n",
       "6  https://open.spotify.com/track/7HPzwsJiZAsrM5U1KMGleZ  \n",
       "7  https://open.spotify.com/track/0vvt4IZOMkRug195S4MUq0  \n",
       "8  https://open.spotify.com/track/7pUYjnFTXMs0mFWsE9epqV  \n",
       "9  https://open.spotify.com/track/32UIpKdyGzgTPTO8e5ge5c  "
      ]
     },
     "execution_count": 26,
     "metadata": {},
     "output_type": "execute_result"
    }
   ],
   "source": [
    "recommend_songs(\"before he\", \"carrie\", 10)"
   ]
  },
  {
   "cell_type": "code",
   "execution_count": 27,
   "metadata": {},
   "outputs": [
    {
     "name": "stdout",
     "output_type": "stream",
     "text": [
      "Recommendations for 'Back At One' by Brian McKnight:\n"
     ]
    },
    {
     "data": {
      "text/html": [
       "- <a href='https://open.spotify.com/track/2obTnCmXErghJPwnXFw4tV' target='_blank'>Ooh La La (I Can't Get Over You) by Perfect Gentlemen</a>"
      ],
      "text/plain": [
       "<IPython.core.display.HTML object>"
      ]
     },
     "metadata": {},
     "output_type": "display_data"
    },
    {
     "data": {
      "text/html": [
       "- <a href='https://open.spotify.com/track/0Q7aNolyWuEFAk53EGql50' target='_blank'>Love Me by Tracie Spencer</a>"
      ],
      "text/plain": [
       "<IPython.core.display.HTML object>"
      ]
     },
     "metadata": {},
     "output_type": "display_data"
    },
    {
     "data": {
      "text/html": [
       "- <a href='https://open.spotify.com/track/1M2l9ReoabUnvl6Y8jLUe7' target='_blank'>Colder Weather by Zac Brown Band</a>"
      ],
      "text/plain": [
       "<IPython.core.display.HTML object>"
      ]
     },
     "metadata": {},
     "output_type": "display_data"
    },
    {
     "data": {
      "text/html": [
       "- <a href='https://open.spotify.com/track/0XOnMqLQDO89iAg7dWWwnG' target='_blank'>Pete Davidson by Ariana Grande</a>"
      ],
      "text/plain": [
       "<IPython.core.display.HTML object>"
      ]
     },
     "metadata": {},
     "output_type": "display_data"
    },
    {
     "data": {
      "text/html": [
       "- <a href='https://open.spotify.com/track/4uK6BtqhRoEaZopGJ6FCef' target='_blank'>When You Walk In The Room by Jackie DeShannon</a>"
      ],
      "text/plain": [
       "<IPython.core.display.HTML object>"
      ]
     },
     "metadata": {},
     "output_type": "display_data"
    },
    {
     "data": {
      "text/html": [
       "- <a href='https://open.spotify.com/track/5dJeloBIxmZiqCUexEJxbX' target='_blank'>Imagine by Tracie Spencer</a>"
      ],
      "text/plain": [
       "<IPython.core.display.HTML object>"
      ]
     },
     "metadata": {},
     "output_type": "display_data"
    },
    {
     "data": {
      "text/html": [
       "- <a href='https://open.spotify.com/track/095MMFhB9qxPx2VsmvjnUs' target='_blank'>Live To Tell by Madonna</a>"
      ],
      "text/plain": [
       "<IPython.core.display.HTML object>"
      ]
     },
     "metadata": {},
     "output_type": "display_data"
    },
    {
     "data": {
      "text/html": [
       "- <a href='https://open.spotify.com/track/7DfFc7a6Rwfi3YQMRbDMau' target='_blank'>Thinkin Bout You by Frank Ocean</a>"
      ],
      "text/plain": [
       "<IPython.core.display.HTML object>"
      ]
     },
     "metadata": {},
     "output_type": "display_data"
    },
    {
     "data": {
      "text/html": [
       "- <a href='https://open.spotify.com/track/3wxgj5N8ZKoZWHDw6FJUf2' target='_blank'>Like Jesus Does by Eric Church</a>"
      ],
      "text/plain": [
       "<IPython.core.display.HTML object>"
      ]
     },
     "metadata": {},
     "output_type": "display_data"
    },
    {
     "data": {
      "text/html": [
       "- <a href='https://open.spotify.com/track/0YL8rCxASTV9uBE9Sur0Ag' target='_blank'>Shower Me With Your Love by Surface</a>"
      ],
      "text/plain": [
       "<IPython.core.display.HTML object>"
      ]
     },
     "metadata": {},
     "output_type": "display_data"
    },
    {
     "data": {
      "image/png": "[encoded data removed]",
      "text/plain": [
       "<Figure size 1000x600 with 1 Axes>"
      ]
     },
     "metadata": {},
     "output_type": "display_data"
    },
    {
     "data": {
      "text/html": [
       "<div>\n",
       "<style scoped>\n",
       "    .dataframe tbody tr th:only-of-type {\n",
       "        vertical-align: middle;\n",
       "    }\n",
       "\n",
       "    .dataframe tbody tr th {\n",
       "        vertical-align: top;\n",
       "    }\n",
       "\n",
       "    .dataframe thead th {\n",
       "        text-align: right;\n",
       "    }\n",
       "</style>\n",
       "<table border=\"1\" class=\"dataframe\">\n",
       "  <thead>\n",
       "    <tr style=\"text-align: right;\">\n",
       "      <th></th>\n",
       "      <th>Track</th>\n",
       "      <th>Artist</th>\n",
       "      <th>URL</th>\n",
       "    </tr>\n",
       "  </thead>\n",
       "  <tbody>\n",
       "    <tr>\n",
       "      <th>0</th>\n",
       "      <td>Ooh La La (I Can't Get Over You)</td>\n",
       "      <td>Perfect Gentlemen</td>\n",
       "      <td>https://open.spotify.com/track/2obTnCmXErghJPwnXFw4tV</td>\n",
       "    </tr>\n",
       "    <tr>\n",
       "      <th>1</th>\n",
       "      <td>Love Me</td>\n",
       "      <td>Tracie Spencer</td>\n",
       "      <td>https://open.spotify.com/track/0Q7aNolyWuEFAk53EGql50</td>\n",
       "    </tr>\n",
       "    <tr>\n",
       "      <th>2</th>\n",
       "      <td>Colder Weather</td>\n",
       "      <td>Zac Brown Band</td>\n",
       "      <td>https://open.spotify.com/track/1M2l9ReoabUnvl6Y8jLUe7</td>\n",
       "    </tr>\n",
       "    <tr>\n",
       "      <th>3</th>\n",
       "      <td>Pete Davidson</td>\n",
       "      <td>Ariana Grande</td>\n",
       "      <td>https://open.spotify.com/track/0XOnMqLQDO89iAg7dWWwnG</td>\n",
       "    </tr>\n",
       "    <tr>\n",
       "      <th>4</th>\n",
       "      <td>When You Walk In The Room</td>\n",
       "      <td>Jackie DeShannon</td>\n",
       "      <td>https://open.spotify.com/track/4uK6BtqhRoEaZopGJ6FCef</td>\n",
       "    </tr>\n",
       "    <tr>\n",
       "      <th>5</th>\n",
       "      <td>Imagine</td>\n",
       "      <td>Tracie Spencer</td>\n",
       "      <td>https://open.spotify.com/track/5dJeloBIxmZiqCUexEJxbX</td>\n",
       "    </tr>\n",
       "    <tr>\n",
       "      <th>6</th>\n",
       "      <td>Live To Tell</td>\n",
       "      <td>Madonna</td>\n",
       "      <td>https://open.spotify.com/track/095MMFhB9qxPx2VsmvjnUs</td>\n",
       "    </tr>\n",
       "    <tr>\n",
       "      <th>7</th>\n",
       "      <td>Thinkin Bout You</td>\n",
       "      <td>Frank Ocean</td>\n",
       "      <td>https://open.spotify.com/track/7DfFc7a6Rwfi3YQMRbDMau</td>\n",
       "    </tr>\n",
       "    <tr>\n",
       "      <th>8</th>\n",
       "      <td>Like Jesus Does</td>\n",
       "      <td>Eric Church</td>\n",
       "      <td>https://open.spotify.com/track/3wxgj5N8ZKoZWHDw6FJUf2</td>\n",
       "    </tr>\n",
       "    <tr>\n",
       "      <th>9</th>\n",
       "      <td>Shower Me With Your Love</td>\n",
       "      <td>Surface</td>\n",
       "      <td>https://open.spotify.com/track/0YL8rCxASTV9uBE9Sur0Ag</td>\n",
       "    </tr>\n",
       "  </tbody>\n",
       "</table>\n",
       "</div>"
      ],
      "text/plain": [
       "                              Track             Artist  \\\n",
       "0  Ooh La La (I Can't Get Over You)  Perfect Gentlemen   \n",
       "1                           Love Me     Tracie Spencer   \n",
       "2                    Colder Weather     Zac Brown Band   \n",
       "3                     Pete Davidson      Ariana Grande   \n",
       "4         When You Walk In The Room   Jackie DeShannon   \n",
       "5                           Imagine     Tracie Spencer   \n",
       "6                      Live To Tell            Madonna   \n",
       "7                  Thinkin Bout You        Frank Ocean   \n",
       "8                   Like Jesus Does        Eric Church   \n",
       "9          Shower Me With Your Love            Surface   \n",
       "\n",
       "                                                     URL  \n",
       "0  https://open.spotify.com/track/2obTnCmXErghJPwnXFw4tV  \n",
       "1  https://open.spotify.com/track/0Q7aNolyWuEFAk53EGql50  \n",
       "2  https://open.spotify.com/track/1M2l9ReoabUnvl6Y8jLUe7  \n",
       "3  https://open.spotify.com/track/0XOnMqLQDO89iAg7dWWwnG  \n",
       "4  https://open.spotify.com/track/4uK6BtqhRoEaZopGJ6FCef  \n",
       "5  https://open.spotify.com/track/5dJeloBIxmZiqCUexEJxbX  \n",
       "6  https://open.spotify.com/track/095MMFhB9qxPx2VsmvjnUs  \n",
       "7  https://open.spotify.com/track/7DfFc7a6Rwfi3YQMRbDMau  \n",
       "8  https://open.spotify.com/track/3wxgj5N8ZKoZWHDw6FJUf2  \n",
       "9  https://open.spotify.com/track/0YL8rCxASTV9uBE9Sur0Ag  "
      ]
     },
     "execution_count": 27,
     "metadata": {},
     "output_type": "execute_result"
    }
   ],
   "source": [
    "recommend_songs(\"back at one\", \"Brian\", 10)"
   ]
  }
 ],
 "metadata": {
  "kernelspec": {
   "display_name": "dev",
   "language": "python",
   "name": "python3"
  },
  "language_info": {
   "codemirror_mode": {
    "name": "ipython",
    "version": 3
   },
   "file_extension": ".py",
   "mimetype": "text/x-python",
   "name": "python",
   "nbconvert_exporter": "python",
   "pygments_lexer": "ipython3",
   "version": "3.10.14"
  }
 },
 "nbformat": 4,
 "nbformat_minor": 2
}
